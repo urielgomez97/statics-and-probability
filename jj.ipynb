{
 "cells": [
  {
   "cell_type": "code",
   "execution_count": 1,
   "metadata": {},
   "outputs": [
    {
     "name": "stdout",
     "output_type": "stream",
     "text": [
      "\n",
      " Give me the set of data: 5\n",
      "introduce the values:1\n",
      "introduce the values:2\n",
      "introduce the values:2\n",
      "introduce the values:3\n",
      "introduce the values:4\n",
      "\n",
      " This is your seample mean: \n",
      "\n",
      "The sample mean is = 2.4\n",
      "Data accommodated in descending order:\n",
      "[1.0, 2.0, 2.0, 3.0, 4.0]\n",
      "Percentage to use: 10\n",
      "Trimmed mean:  2.4\n"
     ]
    }
   ],
   "source": [
    "x= 0\n",
    "total_x= 0\n",
    "\n",
    "\n",
    "values= int(input(\"\\n Give me the set of data: \"))\n",
    "v= [] \n",
    "\n",
    "for i in range (0,values):\n",
    "    numeros= float(input(\"introduce the values:\"))\n",
    "    v.append(numeros)\n",
    "    total_x += numeros \n",
    "print(\"\\n This is your seample mean: \")\n",
    "\n",
    "sample_mean = total_x/values\n",
    "print(f\"\\nThe sample mean is = {sample_mean}\")\n",
    "\n",
    "a11 = sorted(v) \n",
    "\n",
    "print(\"Data accommodated in descending order:\")\n",
    "print(a11)\n",
    "\n",
    "\n",
    "\n",
    "porcentaje=int(input(\"Percentage to use: \"))\n",
    "p= (porcentaje/100) \n",
    "x=(round(p*values))\n",
    "\n",
    "t_m =(a11[x:values-x])\n",
    "\n",
    "suma = sum (t_m)\n",
    "contar =len(t_m)\n",
    "resultado = suma/contar\n",
    "print(\"Trimmed mean: \",resultado)"
   ]
  },
  {
   "cell_type": "code",
   "execution_count": null,
   "metadata": {},
   "outputs": [],
   "source": []
  },
  {
   "cell_type": "code",
   "execution_count": null,
   "metadata": {},
   "outputs": [],
   "source": []
  }
 ],
 "metadata": {
  "kernelspec": {
   "display_name": "Python 3",
   "language": "python",
   "name": "python3"
  },
  "language_info": {
   "codemirror_mode": {
    "name": "ipython",
    "version": 3
   },
   "file_extension": ".py",
   "mimetype": "text/x-python",
   "name": "python",
   "nbconvert_exporter": "python",
   "pygments_lexer": "ipython3",
   "version": "3.7.3"
  }
 },
 "nbformat": 4,
 "nbformat_minor": 2
}
